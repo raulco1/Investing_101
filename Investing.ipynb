{
 "cells": [
  {
   "cell_type": "markdown",
   "id": "f9ebf0fd",
   "metadata": {},
   "source": [
    "# <center> Welcome to investing 101 </center>\n",
    "\n",
    "1960 ~ 6 -10% was saved \n",
    "<br>\n",
    "now ~ 0%\n",
    "#### ways to invest: \n",
    "<ul>\n",
    "    <li>Stock</li>\n",
    "    <li>Bonds</li>\n",
    "    <li>Mutual Funds</li>\n",
    "    <li>Precious Metals/li>\n",
    "    <li>Exchange-traded funds</li>\n",
    "    <li>Real Estate</li>\n",
    "    <li>Commodities</li>\n",
    "    <li>Currency Trading</li>\n",
    "</ul> \n",
    "\n",
    "#### <em> if consumers spend, the economy can grow.</em>"
   ]
  },
  {
   "cell_type": "markdown",
   "id": "7e72ffb1",
   "metadata": {},
   "source": [
    "## Personal Consumption Expenditure\n",
    "Bureau of Economic Analysis monitors PCE reports \n",
    "https://www.bea.gov/\n",
    "\n",
    "Also find info \n",
    "Burea of labor Statistics\n",
    "https://www.bls.gov"
   ]
  },
  {
   "cell_type": "code",
   "execution_count": 195,
   "id": "565aa307",
   "metadata": {},
   "outputs": [],
   "source": [
    "%run config.ipynb\n",
    "import requests\n",
    "\n",
    "\n",
    "#Bureau of Economic Analysis (GET API & plot)\n",
    "###### \"This product uses the Bureau of Economic Analysis (BEA) Data API but is not endorsed or certified by BEA.\" #######\n",
    "\n",
    "url = \"https://apps.bea.gov/api/data?&UserID=\" + your_user_id + \"&method=GETDATASETLIST&\"\n",
    "\n",
    "payload={}\n",
    "headers = {\n",
    "  'Cookie': 'JSESSIONID=48D70F50A62232B9C30261C5F1C52CCD.cfusion'\n",
    "}\n",
    "\n",
    "response = requests.request(\"GET\", url, headers=headers, data=payload)\n",
    "\n",
    "\n",
    "\n",
    "\n",
    "#Get and plot Burea of labor Statistics \n",
    "#Find API"
   ]
  },
  {
   "cell_type": "code",
   "execution_count": 196,
   "id": "90a476e3",
   "metadata": {},
   "outputs": [
    {
     "name": "stdout",
     "output_type": "stream",
     "text": [
      "NIPA: Standard NIPA tables\n",
      "NIUnderlyingDetail: Standard NI underlying detail tables\n",
      "MNE: Multinational Enterprises\n",
      "FixedAssets: Standard Fixed Assets tables\n",
      "ITA: International Transactions Accounts\n",
      "IIP: International Investment Position\n",
      "InputOutput: Input-Output Data\n",
      "IntlServTrade: International Services Trade\n",
      "GDPbyIndustry: GDP by Industry\n",
      "Regional: Regional data sets\n",
      "UnderlyingGDPbyIndustry: Underlying GDP by Industry\n",
      "APIDatasetMetaData: Metadata about other API datasets\n"
     ]
    }
   ],
   "source": [
    "\"\"\"Avaliable Data sets for the BEA\"\"\"\n",
    "#GETDATASETLIST\n",
    "\n",
    "a = []\n",
    "\n",
    "dataSetLists = response.json()[\"BEAAPI\"][\"Results\"][\"Dataset\"]\n",
    "for j in dataSetLists:\n",
    "    a.append(list(j.values()))\n",
    "\n",
    "c = []\n",
    "for i in a:\n",
    "    temp = i[0] +\": \"+i[1]\n",
    "    c.append(temp)\n",
    "    print(temp)"
   ]
  },
  {
   "cell_type": "code",
   "execution_count": 222,
   "id": "78c36711",
   "metadata": {},
   "outputs": [],
   "source": [
    "\"\"\"List fo the parameters for a particular dataset\"\"\"\n",
    "#GETPARAMETERLIST\n",
    "\n",
    "    \n",
    "datasetname = \"Regional\"\n",
    "def getParameterList(datasetname):\n",
    "\n",
    "    url = (\"https://apps.bea.gov/api/data?&UserID=\" + your_user_id + \n",
    "           \"&method=getparameterlist&datasetname=\" + datasetname)\n",
    "\n",
    "    #Figure what this is for and use or remove    \n",
    "    payload={}\n",
    "    headers = {\n",
    "      'Cookie': 'JSESSIONID=48D70F50A62232B9C30261C5F1C52CCD.cfusion'\n",
    "    }\n",
    "    \n",
    "    response = requests.request(\"GET\", url, headers=headers, data=payload)\n",
    "    dataSetParameters = response.json()[\"BEAAPI\"][\"Results\"][\"Parameter\"]\n",
    "    for i in dataSetParameters:\n",
    "        for j in i.keys():\n",
    "            print(j + \" : \" + i[j])\n",
    "        print(\"____________________________\")\n",
    "    \n",
    "    return dataSetParameters"
   ]
  },
  {
   "cell_type": "code",
   "execution_count": 226,
   "id": "9c458594",
   "metadata": {},
   "outputs": [
    {
     "name": "stdout",
     "output_type": "stream",
     "text": [
      "ParameterName : GeoFips\n",
      "ParameterDataType : string\n",
      "ParameterDescription : Comma-delimited list of 5-character geographic codes; COUNTY for all counties, STATE for all states, MSA for all MSAs, MIC for all Micropolitan Areas, PORT for all state metro/nonmetro portions, DIV for all Metropolitan Divisions, CSA for all Combined Statistical Areas, state post office abbreviation for all counties in one state (e.g. NY)\n",
      "ParameterIsRequiredFlag : 1\n",
      "MultipleAcceptedFlag : 1\n",
      "____________________________\n",
      "ParameterName : LineCode\n",
      "ParameterDataType : integer\n",
      "ParameterDescription : Line code for a statistic or industry\n",
      "ParameterIsRequiredFlag : 1\n",
      "MultipleAcceptedFlag : 0\n",
      "____________________________\n",
      "ParameterName : TableName\n",
      "ParameterDataType : string\n",
      "ParameterDescription : Regional income or product table to retrieve\n",
      "ParameterIsRequiredFlag : 1\n",
      "ParameterDefaultValue : \n",
      "MultipleAcceptedFlag : 0\n",
      "____________________________\n",
      "ParameterName : Year\n",
      "ParameterDataType : string\n",
      "ParameterDescription : Comma-delimted list of years; LAST5 for latest 5 years; LAST10 for latest 10 years; ALL for all years\n",
      "ParameterIsRequiredFlag : 0\n",
      "ParameterDefaultValue : LAST5\n",
      "MultipleAcceptedFlag : 1\n",
      "____________________________\n"
     ]
    },
    {
     "data": {
      "text/plain": [
       "[{'ParameterName': 'GeoFips',\n",
       "  'ParameterDataType': 'string',\n",
       "  'ParameterDescription': 'Comma-delimited list of 5-character geographic codes; COUNTY for all counties, STATE for all states, MSA for all MSAs, MIC for all Micropolitan Areas, PORT for all state metro/nonmetro portions, DIV for all Metropolitan Divisions, CSA for all Combined Statistical Areas, state post office abbreviation for all counties in one state (e.g. NY)',\n",
       "  'ParameterIsRequiredFlag': '1',\n",
       "  'MultipleAcceptedFlag': '1'},\n",
       " {'ParameterName': 'LineCode',\n",
       "  'ParameterDataType': 'integer',\n",
       "  'ParameterDescription': 'Line code for a statistic or industry',\n",
       "  'ParameterIsRequiredFlag': '1',\n",
       "  'MultipleAcceptedFlag': '0'},\n",
       " {'ParameterName': 'TableName',\n",
       "  'ParameterDataType': 'string',\n",
       "  'ParameterDescription': 'Regional income or product table to retrieve',\n",
       "  'ParameterIsRequiredFlag': '1',\n",
       "  'ParameterDefaultValue': '',\n",
       "  'MultipleAcceptedFlag': '0'},\n",
       " {'ParameterName': 'Year',\n",
       "  'ParameterDataType': 'string',\n",
       "  'ParameterDescription': 'Comma-delimted list of years; LAST5 for latest 5 years; LAST10 for latest 10 years; ALL for all years',\n",
       "  'ParameterIsRequiredFlag': '0',\n",
       "  'ParameterDefaultValue': 'LAST5',\n",
       "  'MultipleAcceptedFlag': '1'}]"
      ]
     },
     "execution_count": 226,
     "metadata": {},
     "output_type": "execute_result"
    }
   ],
   "source": [
    "getParameterList(datasetname)"
   ]
  },
  {
   "cell_type": "code",
   "execution_count": 206,
   "id": "664a2235",
   "metadata": {},
   "outputs": [
    {
     "name": "stdout",
     "output_type": "stream",
     "text": [
      "ParameterName : GeoFips\n",
      "ParameterDataType : string\n",
      "ParameterDescription : Comma-delimited list of 5-character geographic codes; COUNTY for all counties, STATE for all states, MSA for all MSAs, MIC for all Micropolitan Areas, PORT for all state metro/nonmetro portions, DIV for all Metropolitan Divisions, CSA for all Combined Statistical Areas, state post office abbreviation for all counties in one state (e.g. NY)\n",
      "ParameterIsRequiredFlag : 1\n",
      "MultipleAcceptedFlag : 1\n",
      "____________________________\n",
      "ParameterName : LineCode\n",
      "ParameterDataType : integer\n",
      "ParameterDescription : Line code for a statistic or industry\n",
      "ParameterIsRequiredFlag : 1\n",
      "MultipleAcceptedFlag : 0\n",
      "____________________________\n",
      "ParameterName : TableName\n",
      "ParameterDataType : string\n",
      "ParameterDescription : Regional income or product table to retrieve\n",
      "ParameterIsRequiredFlag : 1\n",
      "ParameterDefaultValue : \n",
      "MultipleAcceptedFlag : 0\n",
      "____________________________\n",
      "ParameterName : Year\n",
      "ParameterDataType : string\n",
      "ParameterDescription : Comma-delimted list of years; LAST5 for latest 5 years; LAST10 for latest 10 years; ALL for all years\n",
      "ParameterIsRequiredFlag : 0\n",
      "ParameterDefaultValue : LAST5\n",
      "MultipleAcceptedFlag : 1\n",
      "____________________________\n"
     ]
    }
   ],
   "source": [
    "dataSetParameters = response.json()[\"BEAAPI\"][\"Results\"][\"Parameter\"]\n",
    "type(dataSetParameters)\n",
    "for i in dataSetParameters:\n",
    "    for j in i.keys():\n",
    "        print(j + \" : \" + i[j])\n",
    "    print(\"____________________________\")\n"
   ]
  },
  {
   "cell_type": "code",
   "execution_count": 219,
   "id": "e5e897ae",
   "metadata": {},
   "outputs": [
    {
     "name": "stdout",
     "output_type": "stream",
     "text": [
      "[{'ParameterName': 'GeoFips', 'ParameterDataType': 'string', 'ParameterDescription': 'Comma-delimited list of 5-character geographic codes; COUNTY for all counties, STATE for all states, MSA for all MSAs, MIC for all Micropolitan Areas, PORT for all state metro/nonmetro portions, DIV for all Metropolitan Divisions, CSA for all Combined Statistical Areas, state post office abbreviation for all counties in one state (e.g. NY)', 'ParameterIsRequiredFlag': '1', 'MultipleAcceptedFlag': '1'}, {'ParameterName': 'LineCode', 'ParameterDataType': 'integer', 'ParameterDescription': 'Line code for a statistic or industry', 'ParameterIsRequiredFlag': '1', 'MultipleAcceptedFlag': '0'}, {'ParameterName': 'TableName', 'ParameterDataType': 'string', 'ParameterDescription': 'Regional income or product table to retrieve', 'ParameterIsRequiredFlag': '1', 'ParameterDefaultValue': '', 'MultipleAcceptedFlag': '0'}, {'ParameterName': 'Year', 'ParameterDataType': 'string', 'ParameterDescription': 'Comma-delimted list of years; LAST5 for latest 5 years; LAST10 for latest 10 years; ALL for all years', 'ParameterIsRequiredFlag': '0', 'ParameterDefaultValue': 'LAST5', 'MultipleAcceptedFlag': '1'}]\n",
      "<class 'list'>\n",
      "  ParameterName ParameterDataType  \\\n",
      "0       GeoFips            string   \n",
      "1      LineCode           integer   \n",
      "2     TableName            string   \n",
      "3          Year            string   \n",
      "\n",
      "                                ParameterDescription ParameterIsRequiredFlag  \\\n",
      "0  Comma-delimited list of 5-character geographic...                       1   \n",
      "1              Line code for a statistic or industry                       1   \n",
      "2       Regional income or product table to retrieve                       1   \n",
      "3  Comma-delimted list of years; LAST5 for latest...                       0   \n",
      "\n",
      "  MultipleAcceptedFlag ParameterDefaultValue  \n",
      "0                    1                   NaN  \n",
      "1                    0                   NaN  \n",
      "2                    0                        \n",
      "3                    1                 LAST5  \n"
     ]
    }
   ],
   "source": [
    "import pandas as pd\n",
    "print(dataSetParameters)\n",
    "print(type(dataSetParameters))\n",
    "df = pd.DataFrame(dataSetParameters)\n",
    "print(df)\n",
    "#df = read_json()"
   ]
  },
  {
   "cell_type": "code",
   "execution_count": null,
   "id": "5856c4d4",
   "metadata": {},
   "outputs": [],
   "source": [
    "#Schedule for BEA https://www.bea.gov/news/schedule\n",
    "\"\"\"\n",
    "Standard limits for BEA API:\n",
    "    - 100 request per min\n",
    "    - 100 MB data Volume recieved\n",
    "    - 30 Errors per min\n",
    "    \n",
    "When exceeded time-out period of 1 hr\n",
    "\"\"\"\n",
    "\n",
    "\n",
    "#Make a function to call so I am not rewriting this all the tine \n",
    "\n"
   ]
  },
  {
   "cell_type": "markdown",
   "id": "d20b32ed",
   "metadata": {},
   "source": [
    "## Interest Rates\n",
    "The Federal reserve has the power to control fedral fund rates (set the rates for everything else)\n",
    "### used to control inflation:\n",
    "#### Higher Interest rates \n",
    "- To keep inflation down Fed raises its rate\n",
    "- limits the amount of money available for consumer spending\n",
    "- more money goes to intrest payments less to shopping\n",
    "-pushes stock prices down\n",
    "<br>\n",
    "<br>\n",
    "- treasury securities give bigger return\n",
    "- municipal and corporate bonds\n",
    "\n",
    "#### Lower interest rate\n",
    "- money supply increase \n",
    "- increase stock demand seem more attractive\n",
    "\n",
    "\n"
   ]
  },
  {
   "cell_type": "code",
   "execution_count": null,
   "id": "2488a6b6",
   "metadata": {},
   "outputs": [],
   "source": []
  },
  {
   "cell_type": "markdown",
   "id": "42ed7ff5",
   "metadata": {},
   "source": [
    "# <center> Economic Indicators </center> <center> (signpost in the Market place)</center>\n",
    "Economic indicators are often tied with inflation.\n",
    "<br>\n",
    "Types of indiators : Coincident, Lagging, Leading\n",
    "\n",
    "### Eight of the most important economic indicators:\n",
    "<ol type=\"a\">\n",
    "  <li>GDP</li>\n",
    "  <li>CPI</li>\n",
    "  <li>Condumer Confidence</li>\n",
    "  <li>Job Growth</li>\n",
    "  <li>Unemployment index</li>\n",
    "  <li>Housing Starts</li>\n",
    "  <li>Buisness Inventories</li>\n",
    "   <li>Producer Price Index   (coincident indicator)</li>\n",
    "</ol>\n",
    "\n",
    "###### Leading Economic Indicator Index (LEI Index)\n",
    "predicts future economic activity\n",
    "When the LEI moves in the same direction for three consecutive months, it suggest an economic turning point\n",
    "\n",
    "<br>"
   ]
  },
  {
   "cell_type": "code",
   "execution_count": null,
   "id": "2003bcc7",
   "metadata": {},
   "outputs": [],
   "source": [
    "#(Make a Pi chart of the other invement dollars housing 25%)"
   ]
  },
  {
   "cell_type": "markdown",
   "id": "1a1b11f5",
   "metadata": {},
   "source": [
    "## Gross Domestic Product (GDP)\n",
    "comsumer spending makes up most of our GDP .<br>\n",
    "The four major Components of the GDP are: Consumption, investment, goverment purchases, and net exports.\n",
    "Lets us know if the economy is shrinking or growing."
   ]
  },
  {
   "cell_type": "code",
   "execution_count": null,
   "id": "4cfb1e03",
   "metadata": {},
   "outputs": [],
   "source": []
  },
  {
   "cell_type": "markdown",
   "id": "68784726",
   "metadata": {},
   "source": [
    "## Consumer Price Index (CPI)\n",
    "Directly linked with inflation rate. (release by BLS)\n",
    "Tracks retail-level prce changes by comparing prices for a specific basket of goods and services to base-period prices.\n",
    "covers both domestic produce and imported goods\n"
   ]
  },
  {
   "cell_type": "code",
   "execution_count": null,
   "id": "38ca3fa7",
   "metadata": {},
   "outputs": [],
   "source": []
  },
  {
   "cell_type": "markdown",
   "id": "05833400",
   "metadata": {},
   "source": [
    "## Consumer Confidence\n",
    "Monitors conseumer sentiment based on monthly Interviews with thousands of households.\n",
    "(no confidence no spending)"
   ]
  },
  {
   "cell_type": "code",
   "execution_count": null,
   "id": "d09a2ea9",
   "metadata": {},
   "outputs": [],
   "source": []
  },
  {
   "cell_type": "markdown",
   "id": "0d29e40c",
   "metadata": {},
   "source": [
    "## Job Growth\n",
    "job growth stats include:\n",
    "employment info such as length of avg workweek, hourly earnings, current umeployment rate.\n",
    "### Sets the tone for the upcoming investment month\n",
    "more job more is spent"
   ]
  },
  {
   "cell_type": "code",
   "execution_count": null,
   "id": "7b4c6ba4",
   "metadata": {},
   "outputs": [],
   "source": []
  },
  {
   "cell_type": "markdown",
   "id": "b513b93b",
   "metadata": {},
   "source": [
    "## Unemployment Index\n",
    "unlike the total jobs data, which is considered a coincident indicator\n",
    "(unemployment is a lagging indicator)"
   ]
  },
  {
   "cell_type": "code",
   "execution_count": null,
   "id": "78e5eb31",
   "metadata": {},
   "outputs": [],
   "source": []
  },
  {
   "cell_type": "markdown",
   "id": "1f1a60b6",
   "metadata": {},
   "source": [
    "## Housing Starts\n",
    "Measures the new construction of single-family home or building each month.\n",
    "Represent 25% of total investment dollars and about 5% fo the total economy. \n",
    "(Make a Pi chart of the other invement dollars)"
   ]
  },
  {
   "cell_type": "code",
   "execution_count": null,
   "id": "4e105fad",
   "metadata": {},
   "outputs": [],
   "source": []
  },
  {
   "cell_type": "markdown",
   "id": "0d853f76",
   "metadata": {},
   "source": [
    "## Business Inventories\n",
    "Are collected from:\n",
    "- Manufacturing\n",
    "- Merchant Wholesalers\n",
    "- Retail reports\n",
    "##### Retail inventaories are most volatile component of inventories\n",
    "(accumulation -> recession)"
   ]
  },
  {
   "cell_type": "code",
   "execution_count": null,
   "id": "ae96de0e",
   "metadata": {},
   "outputs": [],
   "source": []
  },
  {
   "cell_type": "markdown",
   "id": "ca5639af",
   "metadata": {},
   "source": [
    "## Producer Price Index (PPI)\n",
    "Tracks wholesale price change. (Released by BLS)\n",
    "Includes breakdown on raw materials (commodities), intermediated goods (items that are in production) and finished goods (ready to hit selves).\n"
   ]
  },
  {
   "cell_type": "code",
   "execution_count": null,
   "id": "4ea6684c",
   "metadata": {},
   "outputs": [],
   "source": []
  },
  {
   "cell_type": "markdown",
   "id": "034eb9cc",
   "metadata": {},
   "source": [
    "# <center> Sectors </center> <center> (Sorting Out Industries)</center>\n",
    "Sector Rotation: different types of industries perform better during specific stages in the economic cycle \n",
    "<br>\n",
    "Economic Cycle : Downturn, Recession, Upturn, Recovery\n",
    "\n",
    "->  find current economic analyses \"Wall Street Journal\"\n",
    "\n",
    "-> detail info about us economy bea.gov\n",
    "\n",
    "### Sector rotation:\n",
    "<ol type=\"b\">\n",
    "  <li>Economic Downturn -> utilities and services</li>\n",
    "  <li>Full Recession -> technology, cyclicals, and industrial sectors</li>\n",
    "  <li>Recovery -> basic materials, energy</li>\n",
    "  <li>Thrivinig economy - > Consumer Staples</li>\n",
    "</ol>\n",
    "\n",
    "###### Breakdown on Utilities and Services etc.\n"
   ]
  },
  {
   "cell_type": "code",
   "execution_count": null,
   "id": "4a8e8153",
   "metadata": {},
   "outputs": [],
   "source": [
    "# Code showing what sector we are in\n",
    "\n",
    "# Show top ten compnaies base on % base on what sector we are in\n",
    "\n",
    "# breaking down top 10 compnaies in each sector\n",
    "\n",
    "\n"
   ]
  },
  {
   "cell_type": "markdown",
   "id": "5cced615",
   "metadata": {},
   "source": [
    "# <center> An Index for Everything</center>\n",
    "Indexes: are benchmarks used to measure how well or poorly your investment is doing.  \n",
    "<br>\n",
    "\n",
    "### Widely Used Indexes:\n",
    "\n",
    "<ol type=\"b\">\n",
    "  <li>DOW Jones Industrial average </li>\n",
    "    There are 30 stocks on the Dow, uses established blue chip companies, mimic the U.S stock market as a whole. Companies rep differnet market segments such as entertainment, automotive, healthcare products, and financial services. \n",
    "    weigthed by stock price, rather than market cap. (which is how most indexes are weighted \n",
    "    <break>\n",
    "  <li>Standard & Poor's - (S&P)</li>\n",
    "        Composite index of 500 stocks: 400 industrial, 20 Transportation, 40 utility, 40 financial.\n",
    "  <li>Russell 2000</li>\n",
    "        Covers the small-cap equities market. Markets caps of 300 million - 2 billion\n",
    "  <li>Value Line Index</li>\n",
    "        tracks 1,700 equally weighted stocks from the NYSE; acts as a baraometer, widely held to be the best measure of the overall market.\n",
    "</ol>"
   ]
  },
  {
   "cell_type": "code",
   "execution_count": null,
   "id": "243f6224",
   "metadata": {},
   "outputs": [],
   "source": [
    "#If I want to useit on website got to do reaserach might cost money\n",
    "#http://www.nasdaqtrader.com/TraderB.aspx?id=MDDPricingALLN\n",
    "#https://data.nasdaq.com/monetize-data\n",
    "#Get info on Dow it self what companies are beign used instead : coca cola, dupoint, estman lodal etc \n",
    "\n",
    "#experiment on DOW -> add up all prices of all the stock , then divided by the number of stock included in the index \n",
    "#adjust fro stock split \n",
    "#each company carries equal weight\n",
    "\n",
    "#graph that compares all three state that using it for fun. "
   ]
  },
  {
   "cell_type": "markdown",
   "id": "a2eeb574",
   "metadata": {},
   "source": [
    "# <center> Annual Reports</center>\n",
    "\n",
    "\n",
    "### Import Things to over \n",
    "- Financial Statements (Read footnotes)\n",
    "- CPA opinion letter (To make sure the finnacial position is accurately represented)\n",
    "- Historical Stock data (including dividend history and dividend reinvestment plan program\n"
   ]
  },
  {
   "cell_type": "code",
   "execution_count": null,
   "id": "c6d45412",
   "metadata": {},
   "outputs": [],
   "source": []
  },
  {
   "cell_type": "markdown",
   "id": "98419260",
   "metadata": {},
   "source": [
    "# <center> Technical investor vs Fundamental Investor</center>\n",
    "\n",
    "Technical Analyist:\n",
    "- all about stock price and how they move\n",
    "- relie on charts and graphs showing past stock price and volume patterns\n",
    "- Tend to do more buying and selling\n",
    "\n",
    "\n",
    "Fundamental Analyist:\n",
    "- more common among beginner investors\n",
    "- involve studying the company itself focus on financial statements adn performance\n",
    "- long term\n",
    "- involves learing about the company "
   ]
  },
  {
   "cell_type": "code",
   "execution_count": null,
   "id": "64a5a30f",
   "metadata": {},
   "outputs": [],
   "source": []
  },
  {
   "cell_type": "markdown",
   "id": "645ef9bc",
   "metadata": {},
   "source": [
    "# <center> Things to learn about Stocks</center>\n",
    "\n",
    "important question to consider before buying:\n",
    "- What product and servicesdoes the company offer?\n",
    "- Which part of the buisness accounts for the greatest revenue?\n",
    "- which part of the buisness accounts for the lesast revenue?\n",
    "- is the company too diversified?\n",
    "- Who are its competitors?\n",
    "- is There a demand for the comanpy's offerings?\n",
    "- is the company an industry leader?\n",
    "- are any jmerger and acqquisitions in the works?\n"
   ]
  },
  {
   "cell_type": "code",
   "execution_count": null,
   "id": "711ba22d",
   "metadata": {},
   "outputs": [],
   "source": []
  },
  {
   "cell_type": "markdown",
   "id": "d8c518f6",
   "metadata": {},
   "source": [
    "# <center> Market Capitalization</center>\n",
    "\n",
    "Market value of all of the company's outstanding shares\n",
    "* To calculate:\n",
    "Multiply the current market price of a stock by the number of outstanding shares\n",
    "(The number of outstanding shares refers to the number of shares sold to the public.\n",
    "\n",
    "Look into dividends of a company\n",
    "Calculations\n"
   ]
  },
  {
   "cell_type": "code",
   "execution_count": null,
   "id": "b6c1e21d",
   "metadata": {},
   "outputs": [],
   "source": []
  },
  {
   "cell_type": "markdown",
   "id": "85289cb8",
   "metadata": {},
   "source": [
    "# <center> Kinds of Stocks</center>\n",
    "\n",
    "Growth Stock:\n",
    "- Big on R&D\n",
    "- Growing rapidly\n",
    "- perform besst during bull markets\n",
    "- when stock prices are generally going up \n",
    "\n",
    "Income Stock:\n",
    "- provide steady income \n",
    "- come with regular dividend payments\n",
    "- blue chip category\n",
    "\n",
    "Preferred Stock:\n",
    "- comes with a redemption date and a fixed dividend that gets paid  regardless of the company's earnings \n",
    "- good for income-oriented investor\n"
   ]
  },
  {
   "cell_type": "code",
   "execution_count": null,
   "id": "58d95b90",
   "metadata": {},
   "outputs": [],
   "source": []
  },
  {
   "cell_type": "code",
   "execution_count": null,
   "id": "50bda2e7",
   "metadata": {},
   "outputs": [],
   "source": []
  },
  {
   "cell_type": "code",
   "execution_count": null,
   "id": "8a37b3ef",
   "metadata": {},
   "outputs": [],
   "source": []
  },
  {
   "cell_type": "code",
   "execution_count": null,
   "id": "3997a765",
   "metadata": {},
   "outputs": [],
   "source": []
  },
  {
   "cell_type": "code",
   "execution_count": null,
   "id": "a69f87c8",
   "metadata": {},
   "outputs": [],
   "source": []
  },
  {
   "cell_type": "code",
   "execution_count": null,
   "id": "db15e324",
   "metadata": {},
   "outputs": [],
   "source": []
  },
  {
   "cell_type": "code",
   "execution_count": null,
   "id": "c8dc06db",
   "metadata": {},
   "outputs": [],
   "source": []
  },
  {
   "cell_type": "code",
   "execution_count": null,
   "id": "65ea143b",
   "metadata": {},
   "outputs": [],
   "source": []
  },
  {
   "cell_type": "code",
   "execution_count": null,
   "id": "c2c43ec0",
   "metadata": {},
   "outputs": [],
   "source": []
  }
 ],
 "metadata": {
  "kernelspec": {
   "display_name": "Python 3",
   "language": "python",
   "name": "python3"
  },
  "language_info": {
   "codemirror_mode": {
    "name": "ipython",
    "version": 3
   },
   "file_extension": ".py",
   "mimetype": "text/x-python",
   "name": "python",
   "nbconvert_exporter": "python",
   "pygments_lexer": "ipython3",
   "version": "3.8.8"
  }
 },
 "nbformat": 4,
 "nbformat_minor": 5
}
