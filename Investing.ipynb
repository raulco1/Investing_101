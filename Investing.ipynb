{
 "cells": [
  {
   "cell_type": "markdown",
   "id": "41f48ba5",
   "metadata": {},
   "source": [
    "# <center> Welcome to investing 101 </center>\n",
    "\n",
    "1960 ~ 6 -10% was saved \n",
    "<br>\n",
    "now ~ 0%\n",
    "#### ways to invest: \n",
    "<ul>\n",
    "    <li>Stock</li>\n",
    "    <li>Bonds</li>\n",
    "    <li>Mutual Funds</li>\n",
    "    <li>Precious Metals/li>\n",
    "    <li>Exchange-traded funds</li>\n",
    "    <li>Real Estate</li>\n",
    "    <li>Commodities</li>\n",
    "    <li>Currency Trading</li>\n",
    "</ul> \n",
    "\n",
    "#### <em> if consumers spend, the economy can grow.</em>"
   ]
  },
  {
   "cell_type": "markdown",
   "id": "6e50a9ad",
   "metadata": {},
   "source": [
    "## Gross Domestic Product (GDP)\n",
    "comsumer spending makes up most of our GDP \n"
   ]
  },
  {
   "cell_type": "markdown",
   "id": "9443010e",
   "metadata": {},
   "source": [
    "## Personal Consumption Expenditure\n",
    "Bureau of Economic Analysis monitors PCE reports \n",
    "https://www.bea.gov/\n",
    "\n",
    "Also find info \n",
    "Burea of labor Statistics\n",
    "https://www.bls.gov"
   ]
  },
  {
   "cell_type": "code",
   "execution_count": 151,
   "id": "42cd3fd9",
   "metadata": {},
   "outputs": [],
   "source": [
    "%run config.ipynb\n",
    "import requests\n",
    "\n",
    "\n",
    "\n",
    "#Bureau of Economic Analysis (GET API & plot)\n",
    "###### \"This product uses the Bureau of Economic Analysis (BEA) Data API but is not endorsed or certified by BEA.\" #######\n",
    "\n",
    "url = \"https://apps.bea.gov/api/data?&UserID=\" + your_user_id + \"&method=GETDATASETLIST&\"\n",
    "\n",
    "payload={}\n",
    "headers = {\n",
    "  'Cookie': 'JSESSIONID=48D70F50A62232B9C30261C5F1C52CCD.cfusion'\n",
    "}\n",
    "\n",
    "response = requests.request(\"GET\", url, headers=headers, data=payload)\n",
    "\n",
    "\n",
    "\n",
    "\n",
    "#Get and plot Burea of labor Statistics \n",
    "#Find API"
   ]
  },
  {
   "cell_type": "code",
   "execution_count": 154,
   "id": "584dcced",
   "metadata": {},
   "outputs": [
    {
     "name": "stdout",
     "output_type": "stream",
     "text": [
      "NIPA: Standard NIPA tables\n",
      "NIUnderlyingDetail: Standard NI underlying detail tables\n",
      "MNE: Multinational Enterprises\n",
      "FixedAssets: Standard Fixed Assets tables\n",
      "ITA: International Transactions Accounts\n",
      "IIP: International Investment Position\n",
      "InputOutput: Input-Output Data\n",
      "IntlServTrade: International Services Trade\n",
      "GDPbyIndustry: GDP by Industry\n",
      "Regional: Regional data sets\n",
      "UnderlyingGDPbyIndustry: Underlying GDP by Industry\n",
      "APIDatasetMetaData: Metadata about other API datasets\n"
     ]
    }
   ],
   "source": [
    "\"\"\"Avaliable Data sets for the BEA\"\"\"\n",
    "a = []\n",
    "\n",
    "dataSetLists = response.json()[\"BEAAPI\"][\"Results\"][\"Dataset\"]\n",
    "for j in dataSetLists:\n",
    "    a.append(list(j.values()))\n",
    "\n",
    "c = []\n",
    "for i in a:\n",
    "    temp = i[0] +\": \"+i[1]\n",
    "    c.append(temp)\n",
    "    print(temp)"
   ]
  },
  {
   "cell_type": "code",
   "execution_count": null,
   "id": "91e852b2",
   "metadata": {},
   "outputs": [],
   "source": []
  },
  {
   "cell_type": "markdown",
   "id": "bc7b853d",
   "metadata": {},
   "source": [
    "## Interest Rates\n",
    "The Federal reserve has the power to control fedral fund rates (set the rates for everything else)\n",
    "### used to control inflation:\n",
    "#### Higher Interest rates \n",
    "- To keep inflation down Fed raises its rate\n",
    "- limits the amount of money available for consumer spending\n",
    "- more money goes to intrest payments less to shopping\n",
    "-pushes stock prices down\n",
    "<br>\n",
    "<br>\n",
    "- treasury securities give bigger return\n",
    "- municipal and corporate bonds\n",
    "\n",
    "#### Lower interest rate\n",
    "- money supply increase \n",
    "- increase stock demand seem more attractive\n",
    "\n",
    "\n"
   ]
  },
  {
   "cell_type": "code",
   "execution_count": 117,
   "id": "9e6a056a",
   "metadata": {},
   "outputs": [
    {
     "name": "stdout",
     "output_type": "stream",
     "text": [
      "['name', 'age', 'city']\n",
      "name: Sarah\n",
      "age: 25\n",
      "city: Chicago\n"
     ]
    }
   ],
   "source": [
    "import json\n",
    "\n",
    "# some JSON:\n",
    "json_str =  '{ \"name\":\"Sarah\", \"age\":25, \"city\":\"Chicago\"}'\n",
    "\n",
    "# parse json_str:\n",
    "json = json.loads(json_str)\n",
    "\n",
    "# get tags from json   \n",
    "tags = []\n",
    "for tag in json:\n",
    "    tags.append(tag)\n",
    "print(tags)\n",
    "\n",
    "# print each tag name e your content\n",
    "for i in range(len(tags)):\n",
    "    print(tags[i] + ': ' + str(json[tags[i]]))"
   ]
  },
  {
   "cell_type": "markdown",
   "id": "9ed2cbe8",
   "metadata": {},
   "source": []
  }
 ],
 "metadata": {
  "kernelspec": {
   "display_name": "Python 3",
   "language": "python",
   "name": "python3"
  },
  "language_info": {
   "codemirror_mode": {
    "name": "ipython",
    "version": 3
   },
   "file_extension": ".py",
   "mimetype": "text/x-python",
   "name": "python",
   "nbconvert_exporter": "python",
   "pygments_lexer": "ipython3",
   "version": "3.8.8"
  }
 },
 "nbformat": 4,
 "nbformat_minor": 5
}
