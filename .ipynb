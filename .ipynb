{
 "cells": [
  {
   "cell_type": "markdown",
   "metadata": {},
   "source": [
    "# <center> Welcome to investing 101 </center>\n",
    "\n",
    "1960 ~ 6 -10% was saved \n",
    "<br>\n",
    "now ~ 0%\n",
    "#### ways to invest: \n",
    "<ul>\n",
    "    <li>Stock</li>\n",
    "    <li>Bonds</li>\n",
    "    <li>Mutual Funds</li>\n",
    "    <li>Precious Metals/li>\n",
    "    <li>Exchange-traded funds</li>\n",
    "    <li>Real Estate</li>\n",
    "    <li>Commodities</li>\n",
    "    <li>Currency Trading</li>\n",
    "</ul> \n",
    "\n",
    "#### <em> if consumers spend, the economy can grow.</em>"
   ]
  },
  {
   "cell_type": "markdown",
   "metadata": {},
   "source": [
    "## Gross Domestic Product (GDP)\n",
    "comsumer spending makes up most of our GDP \n"
   ]
  },
  {
   "cell_type": "markdown",
   "metadata": {},
   "source": [
    "## Personal Consumption Expenditure\n",
    "Bureau of Economic Analysis monitors PCE reports \n",
    "https://www.bea.gov/\n",
    "\n",
    "Also find info \n",
    "Burea of labor Statistics\n",
    "https://www.bls.gov"
   ]
  },
  {
   "cell_type": "code",
   "execution_count": null,
   "metadata": {},
   "outputs": [],
   "source": [
    "#Get and plot Bureau of Economic Analysis\n",
    "#Find API \n",
    "\n",
    "\n",
    "\n",
    "#Get and plot Burea of labor Statistics \n",
    "#Find API"
   ]
  },
  {
   "cell_type": "markdown",
   "metadata": {},
   "source": [
    "## Interest Rates\n",
    "The Federal reserve has the power to control fedral fund rates (set the rates for everything else)\n",
    "### used to control inflation:\n",
    "#### Higher Interest rates \n",
    "- To keep inflation down Fed raises its rate\n",
    "- limits the amount of money available for consumer spending\n",
    "- more money goes to intrest payments less to shopping\n",
    "-pushes stock prices down\n",
    "<br>\n",
    "<br>\n",
    "- treasury securities give bigger return\n",
    "- municipal and corporate bonds\n",
    "\n",
    "#### Lower interest rate\n",
    "- money supply increase \n",
    "- increase stock demand seem more attractive\n",
    "\n",
    "\n"
   ]
  },
  {
   "cell_type": "code",
   "execution_count": null,
   "metadata": {},
   "outputs": [],
   "source": [
    "#Get fedral fund rates \n",
    "#API"
   ]
  }
 ],
 "metadata": {
  "kernelspec": {
   "display_name": "Python 3",
   "language": "python",
   "name": "python3"
  },
  "language_info": {
   "codemirror_mode": {
    "name": "ipython",
    "version": 3
   },
   "file_extension": ".py",
   "mimetype": "text/x-python",
   "name": "python",
   "nbconvert_exporter": "python",
   "pygments_lexer": "ipython3",
   "version": "3.7.6"
  }
 },
 "nbformat": 4,
 "nbformat_minor": 5
}
