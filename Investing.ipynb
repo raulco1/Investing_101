{
 "cells": [
  {
   "cell_type": "markdown",
   "id": "20822d3f",
   "metadata": {},
   "source": [
    "# <center> Welcome to investing 101 </center>\n",
    "\n",
    "\n",
    "#### ways to invest: \n",
    "<ul>\n",
    "    <li>Stock</li>\n",
    "    <li>Bonds</li>\n",
    "    <li>Mutual Funds</li>\n",
    "    <li>Precious Metals/li>\n",
    "    <li>Exchange-traded funds</li>\n",
    "    <li>Real Estate</li>\n",
    "    <li>Commodities</li>\n",
    "    <li>Currency Trading</li>\n",
    "</ul> \n",
    "\n",
    "#### <em> if consumers spend, the economy can grow.</em>"
   ]
  },
  {
   "cell_type": "code",
   "execution_count": null,
   "id": "76d7b80f",
   "metadata": {},
   "outputs": [],
   "source": []
  }
 ],
 "metadata": {
  "kernelspec": {
   "display_name": "Python 3",
   "language": "python",
   "name": "python3"
  },
  "language_info": {
   "codemirror_mode": {
    "name": "ipython",
    "version": 3
   },
   "file_extension": ".py",
   "mimetype": "text/x-python",
   "name": "python",
   "nbconvert_exporter": "python",
   "pygments_lexer": "ipython3",
   "version": "3.8.8"
  }
 },
 "nbformat": 4,
 "nbformat_minor": 5
}
