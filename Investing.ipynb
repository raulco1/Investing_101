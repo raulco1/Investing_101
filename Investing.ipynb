{
 "cells": [
  {
   "cell_type": "markdown",
   "id": "41f48ba5",
   "metadata": {},
   "source": [
    "# <center> Welcome to investing 101 </center>\n",
    "\n",
    "1960 ~ 6 -10% was saved \n",
    "<br>\n",
    "now ~ 0%\n",
    "#### ways to invest: \n",
    "<ul>\n",
    "    <li>Stock</li>\n",
    "    <li>Bonds</li>\n",
    "    <li>Mutual Funds</li>\n",
    "    <li>Precious Metals/li>\n",
    "    <li>Exchange-traded funds</li>\n",
    "    <li>Real Estate</li>\n",
    "    <li>Commodities</li>\n",
    "    <li>Currency Trading</li>\n",
    "</ul> \n",
    "\n",
    "#### <em> if consumers spend, the economy can grow.</em>"
   ]
  },
  {
   "cell_type": "markdown",
   "id": "6e50a9ad",
   "metadata": {},
   "source": [
    "## Gross Domestic Product (GDP)\n",
    "comsumer spending makes up most of our GDP \n"
   ]
  },
  {
   "cell_type": "markdown",
   "id": "9443010e",
   "metadata": {},
   "source": [
    "## Personal Consumption Expenditure\n",
    "Bureau of Economic Analysis monitors PCE reports \n",
    "https://www.bea.gov/\n",
    "\n",
    "Also find info \n",
    "Burea of labor Statistics\n",
    "https://www.bls.gov"
   ]
  },
  {
   "cell_type": "code",
   "execution_count": 5,
   "id": "42cd3fd9",
   "metadata": {},
   "outputs": [
    {
     "name": "stdout",
     "output_type": "stream",
     "text": [
      "{\"BEAAPI\":{\"Request\":{\"RequestParam\":[{\"ParameterName\":\"USERID\",\"ParameterValue\":\"C3438F33-8A6B-477A-A4ED-5ADECD7D4408\"},{\"ParameterName\":\"METHOD\",\"ParameterValue\":\"GETDATASETLIST\"}]},\"Results\":{\"Dataset\":[{\"DatasetName\":\"NIPA\",\"DatasetDescription\":\"Standard NIPA tables\"},{\"DatasetName\":\"NIUnderlyingDetail\",\"DatasetDescription\":\"Standard NI underlying detail tables\"},{\"DatasetName\":\"MNE\",\"DatasetDescription\":\"Multinational Enterprises\"},{\"DatasetName\":\"FixedAssets\",\"DatasetDescription\":\"Standard Fixed Assets tables\"},{\"DatasetName\":\"ITA\",\"DatasetDescription\":\"International Transactions Accounts\"},{\"DatasetName\":\"IIP\",\"DatasetDescription\":\"International Investment Position\"},{\"DatasetName\":\"InputOutput\",\"DatasetDescription\":\"Input-Output Data\"},{\"DatasetName\":\"IntlServTrade\",\"DatasetDescription\":\"International Services Trade\"},{\"DatasetName\":\"GDPbyIndustry\",\"DatasetDescription\":\"GDP by Industry\"},{\"DatasetName\":\"Regional\",\"DatasetDescription\":\"Regional data sets\"},{\"DatasetName\":\"UnderlyingGDPbyIndustry\",\"DatasetDescription\":\"Underlying GDP by Industry\"},{\"DatasetName\":\"APIDatasetMetaData\",\"DatasetDescription\":\"Metadata about other API datasets\"}]}}}\n",
      "{\"BEAAPI\":{\"Request\":{\"RequestParam\":[{\"ParameterName\":\"USERID\",\"ParameterValue\":\"C3438F33-8A6B-477A-A4ED-5ADECD7D4408\"},{\"ParameterName\":\"METHOD\",\"ParameterValue\":\"GETDATASETLIST\"}]},\"Results\":{\"Dataset\":[{\"DatasetName\":\"NIPA\",\"DatasetDescription\":\"Standard NIPA tables\"},{\"DatasetName\":\"NIUnderlyingDetail\",\"DatasetDescription\":\"Standard NI underlying detail tables\"},{\"DatasetName\":\"MNE\",\"DatasetDescription\":\"Multinational Enterprises\"},{\"DatasetName\":\"FixedAssets\",\"DatasetDescription\":\"Standard Fixed Assets tables\"},{\"DatasetName\":\"ITA\",\"DatasetDescription\":\"International Transactions Accounts\"},{\"DatasetName\":\"IIP\",\"DatasetDescription\":\"International Investment Position\"},{\"DatasetName\":\"InputOutput\",\"DatasetDescription\":\"Input-Output Data\"},{\"DatasetName\":\"IntlServTrade\",\"DatasetDescription\":\"International Services Trade\"},{\"DatasetName\":\"GDPbyIndustry\",\"DatasetDescription\":\"GDP by Industry\"},{\"DatasetName\":\"Regional\",\"DatasetDescription\":\"Regional data sets\"},{\"DatasetName\":\"UnderlyingGDPbyIndustry\",\"DatasetDescription\":\"Underlying GDP by Industry\"},{\"DatasetName\":\"APIDatasetMetaData\",\"DatasetDescription\":\"Metadata about other API datasets\"}]}}}\n",
      "{\"BEAAPI\":{\"Request\":{\"RequestParam\":[{\"ParameterName\":\"USERID\",\"ParameterValue\":\"C3438F33-8A6B-477A-A4ED-5ADECD7D4408\"},{\"ParameterName\":\"METHOD\",\"ParameterValue\":\"GETDATASETLIST\"}]},\"Results\":{\"Dataset\":[{\"DatasetName\":\"NIPA\",\"DatasetDescription\":\"Standard NIPA tables\"},{\"DatasetName\":\"NIUnderlyingDetail\",\"DatasetDescription\":\"Standard NI underlying detail tables\"},{\"DatasetName\":\"MNE\",\"DatasetDescription\":\"Multinational Enterprises\"},{\"DatasetName\":\"FixedAssets\",\"DatasetDescription\":\"Standard Fixed Assets tables\"},{\"DatasetName\":\"ITA\",\"DatasetDescription\":\"International Transactions Accounts\"},{\"DatasetName\":\"IIP\",\"DatasetDescription\":\"International Investment Position\"},{\"DatasetName\":\"InputOutput\",\"DatasetDescription\":\"Input-Output Data\"},{\"DatasetName\":\"IntlServTrade\",\"DatasetDescription\":\"International Services Trade\"},{\"DatasetName\":\"GDPbyIndustry\",\"DatasetDescription\":\"GDP by Industry\"},{\"DatasetName\":\"Regional\",\"DatasetDescription\":\"Regional data sets\"},{\"DatasetName\":\"UnderlyingGDPbyIndustry\",\"DatasetDescription\":\"Underlying GDP by Industry\"},{\"DatasetName\":\"APIDatasetMetaData\",\"DatasetDescription\":\"Metadata about other API datasets\"}]}}}\n"
     ]
    }
   ],
   "source": [
    "#Get and plot Bureau of Economic Analysis\n",
    "#Find API \n",
    "\n",
    "###### \"This product uses the Bureau of Economic Analysis (BEA) Data API but is not endorsed or certified by BEA.\" #######\n",
    "\n",
    "%run config.ipynb\n",
    "import requests\n",
    "\n",
    "url = \"https://apps.bea.gov/api/data?&UserID=\" + your_user_id + \"&method=GETDATASETLIST&\"\n",
    "\n",
    "payload={}\n",
    "headers = {\n",
    "  'Cookie': 'JSESSIONID=48D70F50A62232B9C30261C5F1C52CCD.cfusion'\n",
    "}\n",
    "\n",
    "response = requests.request(\"GET\", url, headers=headers, data=payload)\n",
    "\n",
    "print(response.text)\n",
    "\n",
    "\n",
    "\n",
    "\n",
    "\n",
    "\n",
    "#Get and plot Burea of labor Statistics \n",
    "#Find API"
   ]
  },
  {
   "cell_type": "markdown",
   "id": "bc7b853d",
   "metadata": {},
   "source": [
    "## Interest Rates\n",
    "The Federal reserve has the power to control fedral fund rates (set the rates for everything else)\n",
    "### used to control inflation:\n",
    "#### Higher Interest rates \n",
    "- To keep inflation down Fed raises its rate\n",
    "- limits the amount of money available for consumer spending\n",
    "- more money goes to intrest payments less to shopping\n",
    "-pushes stock prices down\n",
    "<br>\n",
    "<br>\n",
    "- treasury securities give bigger return\n",
    "- municipal and corporate bonds\n",
    "\n",
    "#### Lower interest rate\n",
    "- money supply increase \n",
    "- increase stock demand seem more attractive\n",
    "\n",
    "\n"
   ]
  },
  {
   "cell_type": "code",
   "execution_count": null,
   "id": "9e6a056a",
   "metadata": {},
   "outputs": [],
   "source": []
  },
  {
   "cell_type": "markdown",
   "id": "9ed2cbe8",
   "metadata": {},
   "source": []
  }
 ],
 "metadata": {
  "kernelspec": {
   "display_name": "Python 3",
   "language": "python",
   "name": "python3"
  },
  "language_info": {
   "codemirror_mode": {
    "name": "ipython",
    "version": 3
   },
   "file_extension": ".py",
   "mimetype": "text/x-python",
   "name": "python",
   "nbconvert_exporter": "python",
   "pygments_lexer": "ipython3",
   "version": "3.8.8"
  }
 },
 "nbformat": 4,
 "nbformat_minor": 5
}
